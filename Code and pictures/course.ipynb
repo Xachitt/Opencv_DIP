{
 "cells": [
  {
   "cell_type": "markdown",
   "id": "184bedb4",
   "metadata": {},
   "source": [
    "# Chapter 1: Software and packages\n"
   ]
  },
  {
   "cell_type": "code",
   "execution_count": 4,
   "id": "d038de2d",
   "metadata": {},
   "outputs": [],
   "source": [
    "import numpy as np\n",
    "import cv2\n",
    "from matplotlib import pyplot as plt\n",
    "from copy import deepcopy"
   ]
  },
  {
   "cell_type": "markdown",
   "id": "ad253cf1",
   "metadata": {},
   "source": [
    "# Chapter 2: Basic Operation of images\n"
   ]
  },
  {
   "cell_type": "code",
   "execution_count": 7,
   "id": "a1797d69",
   "metadata": {
    "scrolled": true
   },
   "outputs": [
    {
     "data": {
      "text/plain": [
       "array([[ 21,  21,  21, ..., 107, 107, 107],\n",
       "       [ 21,  21,  21, ..., 107, 107, 107],\n",
       "       [ 21,  21,  21, ..., 107, 107, 107],\n",
       "       ...,\n",
       "       [ 34,  34,  34, ...,  46,  46,  46],\n",
       "       [ 34,  34,  34, ...,  46,  46,  46],\n",
       "       [ 34,  34,  34, ...,  46,  46,  46]], dtype=uint8)"
      ]
     },
     "execution_count": 7,
     "metadata": {},
     "output_type": "execute_result"
    }
   ],
   "source": [
    "#2.1 importing, drawing and displaying\n",
    "img=cv2.imread('itadori.png',0)\n",
    "img"
   ]
  },
  {
   "cell_type": "code",
   "execution_count": 8,
   "id": "ca4212f7",
   "metadata": {},
   "outputs": [
    {
     "data": {
      "text/plain": [
       "True"
      ]
     },
     "execution_count": 8,
     "metadata": {},
     "output_type": "execute_result"
    }
   ],
   "source": [
    "img[5,3]==21"
   ]
  },
  {
   "cell_type": "code",
   "execution_count": 4,
   "id": "9358baef",
   "metadata": {},
   "outputs": [],
   "source": [
    "def wind(image) : \n",
    "    cv2.namedWindow('image',cv2.WINDOW_NORMAL)\n",
    "    cv2.imshow('image',image)\n",
    "    cv2.waitKey(2000)\n",
    "    cv2.destroyAllWindows()"
   ]
  },
  {
   "cell_type": "code",
   "execution_count": 10,
   "id": "217878a0",
   "metadata": {
    "scrolled": true
   },
   "outputs": [],
   "source": [
    "wind(img)"
   ]
  },
  {
   "cell_type": "code",
   "execution_count": 11,
   "id": "f93af39d",
   "metadata": {},
   "outputs": [],
   "source": [
    "imgcol=cv2.imread('itadori.png',1)\n",
    "wind(imgcol)"
   ]
  },
  {
   "cell_type": "code",
   "execution_count": 12,
   "id": "358ba9bd",
   "metadata": {},
   "outputs": [],
   "source": [
    "imgcol1=deepcopy(imgcol)\n",
    "circle=cv2.circle(imgcol1,(100,300),100,(0,255),10)\n",
    "wind(circle)"
   ]
  },
  {
   "cell_type": "code",
   "execution_count": 14,
   "id": "de4cdaa3",
   "metadata": {},
   "outputs": [],
   "source": [
    "imgN1=cv2.imread('itadori1.png',1)\n",
    "wind(imgN1)"
   ]
  },
  {
   "cell_type": "code",
   "execution_count": null,
   "id": "603a74d8",
   "metadata": {},
   "outputs": [],
   "source": [
    "imgN=deepcopy(imgN1)\n",
    "def click2circle(event,x,y,flags,param):    \n",
    "    if event==cv2.EVENT_LBUTTONDBLCLK:\n",
    "        cv2.circle(imgN,(x,y),50,(255,0,0),10)\n",
    "    \n",
    "cv2.namedWindow('Differences', cv2.WINDOW_NORMAL)\n",
    "cv2.setMouseCallback('Differences',click2circle)\n",
    "\n",
    "while True:\n",
    "    cv2.imshow('Differences',imgN)\n",
    "    a=cv2.waitKey(2000)\n",
    "    print('2seconds')\n",
    "    if a==27:\n",
    "        break\n",
    "cv2.destroyAllWindows()"
   ]
  },
  {
   "cell_type": "code",
   "execution_count": null,
   "id": "435612b3",
   "metadata": {},
   "outputs": [],
   "source": [
    "#2.2 spliting channel,map algebra"
   ]
  },
  {
   "cell_type": "code",
   "execution_count": 15,
   "id": "6788acb5",
   "metadata": {},
   "outputs": [],
   "source": [
    "wind(imgcol)\n"
   ]
  },
  {
   "cell_type": "code",
   "execution_count": null,
   "id": "2f975633",
   "metadata": {},
   "outputs": [],
   "source": [
    "b,g,r=cv2.split(imgcol)\n",
    "wind(r-g)\n",
    "imgcol2=cv2.merge((b,g,r))\n",
    "wind(imgcol2)"
   ]
  },
  {
   "cell_type": "code",
   "execution_count": null,
   "id": "ad3c075a",
   "metadata": {},
   "outputs": [],
   "source": [
    "#2.3 resizing,cropping and exporting\n"
   ]
  },
  {
   "cell_type": "code",
   "execution_count": null,
   "id": "dc094db8",
   "metadata": {},
   "outputs": [],
   "source": [
    "imgres=cv2.resize(imgcol,dsize=None, fx=0.6, fy=.6, interpolation=cv2.INTER_CUBIC)\n"
   ]
  },
  {
   "cell_type": "code",
   "execution_count": null,
   "id": "ae9f72df",
   "metadata": {},
   "outputs": [],
   "source": [
    "cv2.imshow('image',imgres)\n",
    "cv2.waitKey(2000)\n",
    "cv2.destroyAllWindows()"
   ]
  },
  {
   "cell_type": "code",
   "execution_count": null,
   "id": "b106f7be",
   "metadata": {},
   "outputs": [],
   "source": [
    "cropped=imgres[100:300,50:300]\n",
    "wind(cropped)"
   ]
  },
  {
   "cell_type": "markdown",
   "id": "5b4dc54f",
   "metadata": {},
   "source": [
    "# chapter 3: Geometric operation on images"
   ]
  },
  {
   "cell_type": "code",
   "execution_count": 7,
   "id": "3c94996d",
   "metadata": {},
   "outputs": [],
   "source": [
    "#3.1 image gradients\n",
    "bike=cv2.imread('bike.png',0)\n",
    "wind(bike)"
   ]
  },
  {
   "cell_type": "code",
   "execution_count": 8,
   "id": "5619570a",
   "metadata": {},
   "outputs": [],
   "source": [
    "sobelx=cv2.Sobel(bike,cv2.CV_8U,1,0,ksize=3)"
   ]
  },
  {
   "cell_type": "code",
   "execution_count": 9,
   "id": "573f2fd7",
   "metadata": {},
   "outputs": [],
   "source": [
    "wind(sobelx)"
   ]
  },
  {
   "cell_type": "code",
   "execution_count": 10,
   "id": "ba7accef",
   "metadata": {},
   "outputs": [],
   "source": [
    "laplacian=cv2.Laplacian(bike,cv2.CV_8U)\n",
    "wind(laplacian)"
   ]
  },
  {
   "cell_type": "code",
   "execution_count": 11,
   "id": "1104c8b5",
   "metadata": {},
   "outputs": [],
   "source": [
    "#3.2 Edge and Feature detection"
   ]
  },
  {
   "cell_type": "code",
   "execution_count": 12,
   "id": "7a7f9471",
   "metadata": {},
   "outputs": [],
   "source": [
    "edges=cv2.Canny(bike,250,300)\n",
    "wind(edges)"
   ]
  },
  {
   "cell_type": "code",
   "execution_count": 13,
   "id": "8662e1f2",
   "metadata": {},
   "outputs": [],
   "source": [
    "petals=cv2.imread('flower.jpg',1)\n",
    "wind(petals)"
   ]
  },
  {
   "cell_type": "code",
   "execution_count": 14,
   "id": "8d2e4fc4",
   "metadata": {},
   "outputs": [],
   "source": [
    "edges=cv2.Canny(petals,100,400)\n",
    "wind(edges)"
   ]
  },
  {
   "cell_type": "code",
   "execution_count": 15,
   "id": "29359f31",
   "metadata": {},
   "outputs": [],
   "source": [
    "lines=cv2.HoughLines(edges,5,5*np.pi/180,200)"
   ]
  },
  {
   "cell_type": "code",
   "execution_count": 16,
   "id": "1087ad08",
   "metadata": {},
   "outputs": [
    {
     "data": {
      "text/plain": [
       "array([[[ 1.0500000e+02,  2.3561945e+00]],\n",
       "\n",
       "       [[-5.2000000e+02,  2.7052603e+00]],\n",
       "\n",
       "       [[ 1.3000000e+03,  1.6580627e+00]],\n",
       "\n",
       "       ...,\n",
       "\n",
       "       [[ 2.2300000e+03,  6.1086524e-01]],\n",
       "\n",
       "       [[ 2.7200000e+03,  7.8539813e-01]],\n",
       "\n",
       "       [[ 2.3800000e+03,  1.2217305e+00]]], dtype=float32)"
      ]
     },
     "execution_count": 16,
     "metadata": {},
     "output_type": "execute_result"
    }
   ],
   "source": [
    "lines\n"
   ]
  },
  {
   "cell_type": "code",
   "execution_count": 18,
   "id": "35fb8a48",
   "metadata": {},
   "outputs": [],
   "source": [
    "for iterator in lines:\n",
    "    rho=iterator[0][0]\n",
    "    theta=iterator[0][1]\n",
    "    a=np.cos(theta)\n",
    "    b=np.sin(theta)\n",
    "    x0=a*rho\n",
    "    y0=b*rho\n",
    "    x1=int(x0+1000*(-b))\n",
    "    y1=int(y0+1000*(a))\n",
    "    x2=int(x0-1000*(-b))\n",
    "    y2=int(y0-1000*(a))\n",
    "    cv2.line(petals,(x1,y1),(x2,y2),(0,0,255),2)"
   ]
  },
  {
   "cell_type": "code",
   "execution_count": 19,
   "id": "ad0843da",
   "metadata": {},
   "outputs": [],
   "source": [
    "wind(petals)"
   ]
  },
  {
   "cell_type": "code",
   "execution_count": 20,
   "id": "38fe1ffd",
   "metadata": {},
   "outputs": [],
   "source": [
    "#3.3 A simple geocomputation application"
   ]
  },
  {
   "cell_type": "code",
   "execution_count": 21,
   "id": "7d9aa8b9",
   "metadata": {},
   "outputs": [],
   "source": [
    "imgN1=cv2.imread('itadori1.png',1)\n",
    "wind(imgN1)"
   ]
  },
  {
   "cell_type": "code",
   "execution_count": 22,
   "id": "3fca517c",
   "metadata": {},
   "outputs": [],
   "source": [
    "diffs=np.array([[50,100],[100,233],[100,156],[250,200]])"
   ]
  },
  {
   "cell_type": "code",
   "execution_count": 26,
   "id": "d241694e",
   "metadata": {},
   "outputs": [],
   "source": [
    "def euclid(x1,x2,y1,y2):\n",
    "    return int(np.sqrt((x1-x2)**2+(y1-y2)**2))"
   ]
  },
  {
   "cell_type": "code",
   "execution_count": 32,
   "id": "6750f221",
   "metadata": {},
   "outputs": [
    {
     "name": "stdout",
     "output_type": "stream",
     "text": [
      "1 second\n",
      "1 second\n",
      "1 second\n",
      "1 second\n",
      "1 second\n",
      "1 second\n",
      "1 second\n",
      "1 second\n",
      "1 second\n"
     ]
    }
   ],
   "source": [
    "imgN=deepcopy(imgN1)\n",
    "def click2circle(event,x,y,flags,param):\n",
    "    if event==cv2.EVENT_LBUTTONDBLCLK:\n",
    "        for diff in diffs:\n",
    "            if euclid(x,diff[0],y,diff[1])<15:\n",
    "                cv2.circle(imgN,(x,y),50,(255,0,0),4)\n",
    "\n",
    "cv2.namedWindow(\"differences\",cv2.WINDOW_NORMAL)\n",
    "cv2.setMouseCallback(\"differences\", click2circle)\n",
    "\n",
    "while True:\n",
    "    cv2.imshow(\"differences\",imgN)\n",
    "    a=cv2.waitKey(1000)\n",
    "    print(\"1 second\")\n",
    "      \n",
    "    if a==27:\n",
    "        break\n",
    "cv2.destroyAllWindows()"
   ]
  },
  {
   "cell_type": "markdown",
   "id": "58c4f52c",
   "metadata": {},
   "source": [
    "# Chapter 4: Radiometric operations on images"
   ]
  },
  {
   "cell_type": "code",
   "execution_count": 33,
   "id": "0aaf7735",
   "metadata": {},
   "outputs": [],
   "source": [
    "#4.1 Image colourspace and thresholding"
   ]
  },
  {
   "cell_type": "code",
   "execution_count": 35,
   "id": "f557e407",
   "metadata": {},
   "outputs": [],
   "source": [
    "hsv=cv2.cvtColor(imgN1,cv2.COLOR_BGR2HSV)\n",
    "wind(hsv)"
   ]
  },
  {
   "cell_type": "code",
   "execution_count": 36,
   "id": "64c60c0c",
   "metadata": {},
   "outputs": [],
   "source": [
    "gray=cv2.cvtColor(imgN1,cv2.COLOR_BGR2GRAY)\n",
    "wind(gray)\n"
   ]
  },
  {
   "cell_type": "code",
   "execution_count": 40,
   "id": "df0d2500",
   "metadata": {},
   "outputs": [
    {
     "data": {
      "text/plain": [
       "90.0"
      ]
     },
     "execution_count": 40,
     "metadata": {},
     "output_type": "execute_result"
    }
   ],
   "source": [
    "r,t=cv2.threshold(gray,90,254,cv2.THRESH_BINARY)\n",
    "r"
   ]
  },
  {
   "cell_type": "code",
   "execution_count": 45,
   "id": "78af4daa",
   "metadata": {},
   "outputs": [],
   "source": [
    "t\n",
    "wind(t)"
   ]
  },
  {
   "cell_type": "code",
   "execution_count": 60,
   "id": "4f94ed63",
   "metadata": {},
   "outputs": [],
   "source": [
    "#4.2 Image histogram\n"
   ]
  },
  {
   "cell_type": "code",
   "execution_count": 66,
   "id": "1127c4a4",
   "metadata": {},
   "outputs": [],
   "source": [
    "tiger=cv2.imread('tiger.jpg',0)\n",
    "wind(tiger)"
   ]
  },
  {
   "cell_type": "code",
   "execution_count": 62,
   "id": "f9a4a243",
   "metadata": {},
   "outputs": [],
   "source": [
    "hist=cv2.calcHist([tiger],[0],None,[256],[0,256])\n",
    "xaxis=np.arange(256).reshape(256,1)\n",
    "histogram=np.hstack((xaxis,hist)).astype(int)"
   ]
  },
  {
   "cell_type": "code",
   "execution_count": 67,
   "id": "68405098",
   "metadata": {},
   "outputs": [
    {
     "data": {
      "text/plain": [
       "<function matplotlib.pyplot.show(close=None, block=None)>"
      ]
     },
     "execution_count": 67,
     "metadata": {},
     "output_type": "execute_result"
    },
    {
     "data": {
      "image/png": "[encoded data removed]",
      "text/plain": [
       "<Figure size 432x288 with 1 Axes>"
      ]
     },
     "metadata": {
      "needs_background": "light"
     },
     "output_type": "display_data"
    }
   ],
   "source": [
    "plt.hist(tiger.flatten(),256,[0,256])\n",
    "plt.show"
   ]
  },
  {
   "cell_type": "code",
   "execution_count": 72,
   "id": "fdfd9769",
   "metadata": {},
   "outputs": [],
   "source": [
    "equa=cv2.equalizeHist(tiger)\n",
    "wind(equa)"
   ]
  },
  {
   "cell_type": "code",
   "execution_count": 73,
   "id": "f42cf051",
   "metadata": {},
   "outputs": [],
   "source": [
    "res=np.hstack((tiger,equa))\n",
    "wind(res)"
   ]
  },
  {
   "cell_type": "code",
   "execution_count": null,
   "id": "06c737f4",
   "metadata": {},
   "outputs": [],
   "source": [
    "#4.3 Convolution Based Opertions"
   ]
  },
  {
   "cell_type": "code",
   "execution_count": 74,
   "id": "e1e36550",
   "metadata": {},
   "outputs": [],
   "source": [
    "blur=cv2.blur(tiger,(7,7))\n",
    "wind(blur)"
   ]
  },
  {
   "cell_type": "code",
   "execution_count": 76,
   "id": "1881820f",
   "metadata": {},
   "outputs": [],
   "source": [
    "blurG=cv2.GaussianBlur(tiger,(9,11),0)\n",
    "wind(blurG)"
   ]
  },
  {
   "cell_type": "code",
   "execution_count": 78,
   "id": "fb294b9c",
   "metadata": {},
   "outputs": [],
   "source": [
    "res1=np.hstack((tiger,blurG))\n",
    "wind(res1)"
   ]
  },
  {
   "cell_type": "code",
   "execution_count": null,
   "id": "e574b840",
   "metadata": {},
   "outputs": [],
   "source": [
    "#4.4 k-means classification"
   ]
  },
  {
   "cell_type": "code",
   "execution_count": 79,
   "id": "ada37fa3",
   "metadata": {},
   "outputs": [],
   "source": [
    "img=cv2.imread(\"butterfly.jpg\",1)\n",
    "wind(img)"
   ]
  },
  {
   "cell_type": "code",
   "execution_count": 86,
   "id": "a7fab388",
   "metadata": {},
   "outputs": [],
   "source": [
    "imgCL=np.float32(img.reshape((-1,3)))\n",
    "wind(imgCL)"
   ]
  },
  {
   "cell_type": "code",
   "execution_count": 89,
   "id": "9e220ef7",
   "metadata": {},
   "outputs": [],
   "source": [
    "imgCL=np.float32(img.reshape((-1,3)))\n",
    "criteria=(cv2.TERM_CRITERIA_EPS+cv2.TERM_CRITERIA_MAX_ITER,15,1.0)\n",
    "K=4\n",
    "ret,lab,center=cv2.kmeans(imgCL,K,None,criteria,10,cv2.KMEANS_RANDOM_CENTERS)\n",
    "#center=np.uint8(center)\n",
    "#res=center[lab.flatten()]\n",
    "#res2=res.reshape((img.shape))\n",
    "#wind(res2)"
   ]
  },
  {
   "cell_type": "markdown",
   "id": "c221465f",
   "metadata": {},
   "source": [
    "# # Chapter 5: An Earth Observation example"
   ]
  },
  {
   "cell_type": "code",
   "execution_count": 2,
   "id": "2d37956f",
   "metadata": {},
   "outputs": [],
   "source": [
    "pathB=\"C:/Users/Acer/Documents/1OpenCV course/code/before/\"\n",
    "pathA=\"C:/Users/Acer/Documents/1OpenCV course/code/after/\""
   ]
  },
  {
   "cell_type": "code",
   "execution_count": 6,
   "id": "26f1e349",
   "metadata": {},
   "outputs": [
    {
     "ename": "TypeError",
     "evalue": "'NoneType' object is not subscriptable",
     "output_type": "error",
     "traceback": [
      "\u001b[1;31m---------------------------------------------------------------------------\u001b[0m",
      "\u001b[1;31mTypeError\u001b[0m                                 Traceback (most recent call last)",
      "\u001b[1;32m~\\AppData\\Local\\Temp/ipykernel_9020/604306048.py\u001b[0m in \u001b[0;36m<module>\u001b[1;34m\u001b[0m\n\u001b[0;32m      2\u001b[0m \u001b[0mAFT\u001b[0m\u001b[1;33m=\u001b[0m\u001b[1;33m[\u001b[0m\u001b[1;33m]\u001b[0m\u001b[1;33m\u001b[0m\u001b[1;33m\u001b[0m\u001b[0m\n\u001b[0;32m      3\u001b[0m \u001b[1;32mfor\u001b[0m \u001b[0mi\u001b[0m \u001b[1;32min\u001b[0m \u001b[0mrange\u001b[0m\u001b[1;33m(\u001b[0m\u001b[1;36m1\u001b[0m\u001b[1;33m,\u001b[0m\u001b[1;36m8\u001b[0m\u001b[1;33m)\u001b[0m\u001b[1;33m:\u001b[0m\u001b[1;33m\u001b[0m\u001b[1;33m\u001b[0m\u001b[0m\n\u001b[1;32m----> 4\u001b[1;33m     \u001b[0mBEF\u001b[0m\u001b[1;33m.\u001b[0m\u001b[0mappend\u001b[0m\u001b[1;33m(\u001b[0m\u001b[0mcv2\u001b[0m\u001b[1;33m.\u001b[0m\u001b[0mimread\u001b[0m\u001b[1;33m(\u001b[0m\u001b[0mpathB\u001b[0m\u001b[1;33m+\u001b[0m\u001b[1;34m\"B\"\u001b[0m\u001b[1;33m+\u001b[0m\u001b[0mstr\u001b[0m\u001b[1;33m(\u001b[0m\u001b[0mi\u001b[0m\u001b[1;33m)\u001b[0m\u001b[1;33m+\u001b[0m\u001b[1;34m\".tif\"\u001b[0m\u001b[1;33m,\u001b[0m\u001b[1;36m0\u001b[0m\u001b[1;33m)\u001b[0m\u001b[1;33m[\u001b[0m\u001b[1;36m4200\u001b[0m\u001b[1;33m:\u001b[0m\u001b[1;36m4700\u001b[0m\u001b[1;33m,\u001b[0m\u001b[1;36m2900\u001b[0m\u001b[1;33m:\u001b[0m\u001b[1;36m3500\u001b[0m\u001b[1;33m]\u001b[0m\u001b[1;33m)\u001b[0m\u001b[1;33m\u001b[0m\u001b[1;33m\u001b[0m\u001b[0m\n\u001b[0m\u001b[0;32m      5\u001b[0m     \u001b[0mAFT\u001b[0m\u001b[1;33m.\u001b[0m\u001b[0mappend\u001b[0m\u001b[1;33m(\u001b[0m\u001b[0mcv2\u001b[0m\u001b[1;33m.\u001b[0m\u001b[0mimread\u001b[0m\u001b[1;33m(\u001b[0m\u001b[0mpathA\u001b[0m\u001b[1;33m+\u001b[0m\u001b[1;34m\"B\"\u001b[0m\u001b[1;33m+\u001b[0m\u001b[0mstr\u001b[0m\u001b[1;33m(\u001b[0m\u001b[0mi\u001b[0m\u001b[1;33m)\u001b[0m\u001b[1;33m+\u001b[0m\u001b[1;34m\".tif\"\u001b[0m\u001b[1;33m,\u001b[0m\u001b[1;36m0\u001b[0m\u001b[1;33m)\u001b[0m\u001b[1;33m[\u001b[0m\u001b[1;36m4200\u001b[0m\u001b[1;33m:\u001b[0m\u001b[1;36m4700\u001b[0m\u001b[1;33m,\u001b[0m\u001b[1;36m2900\u001b[0m\u001b[1;33m:\u001b[0m\u001b[1;36m3500\u001b[0m\u001b[1;33m]\u001b[0m\u001b[1;33m)\u001b[0m\u001b[1;33m\u001b[0m\u001b[1;33m\u001b[0m\u001b[0m\n",
      "\u001b[1;31mTypeError\u001b[0m: 'NoneType' object is not subscriptable"
     ]
    }
   ],
   "source": [
    "BEF=[]\n",
    "AFT=[]\n",
    "for i in range(1,8):\n",
    "    BEF.append(cv2.imread(pathB+\"B\"+str(i)+\".tif\",0)[4200:4700,2900:3500])\n",
    "    AFT.append(cv2.imread(pathA+\"B\"+str(i)+\".tif\",0)[4200:4700,2900:3500])"
   ]
  },
  {
   "cell_type": "code",
   "execution_count": 6,
   "id": "f27dbdb6",
   "metadata": {},
   "outputs": [
    {
     "ename": "IndexError",
     "evalue": "list index out of range",
     "output_type": "error",
     "traceback": [
      "\u001b[1;31m---------------------------------------------------------------------------\u001b[0m",
      "\u001b[1;31mIndexError\u001b[0m                                Traceback (most recent call last)",
      "\u001b[1;32m~\\AppData\\Local\\Temp/ipykernel_7184/863897077.py\u001b[0m in \u001b[0;36m<module>\u001b[1;34m\u001b[0m\n\u001b[0;32m      2\u001b[0m \u001b[0mAFT32\u001b[0m\u001b[1;33m=\u001b[0m\u001b[1;33m[\u001b[0m\u001b[1;33m]\u001b[0m\u001b[1;33m\u001b[0m\u001b[1;33m\u001b[0m\u001b[0m\n\u001b[0;32m      3\u001b[0m \u001b[1;32mfor\u001b[0m \u001b[0mi\u001b[0m \u001b[1;32min\u001b[0m \u001b[0mrange\u001b[0m\u001b[1;33m(\u001b[0m\u001b[1;36m7\u001b[0m\u001b[1;33m)\u001b[0m\u001b[1;33m:\u001b[0m\u001b[1;33m\u001b[0m\u001b[1;33m\u001b[0m\u001b[0m\n\u001b[1;32m----> 4\u001b[1;33m     \u001b[0mBEF32\u001b[0m\u001b[1;33m.\u001b[0m\u001b[0mappend\u001b[0m\u001b[1;33m(\u001b[0m\u001b[0mnp\u001b[0m\u001b[1;33m.\u001b[0m\u001b[0mfloat32\u001b[0m\u001b[1;33m(\u001b[0m\u001b[0mcv2\u001b[0m\u001b[1;33m.\u001b[0m\u001b[0mequalizeHist\u001b[0m\u001b[1;33m(\u001b[0m\u001b[0mBEF\u001b[0m\u001b[1;33m[\u001b[0m\u001b[0mi\u001b[0m\u001b[1;33m]\u001b[0m\u001b[1;33m)\u001b[0m\u001b[1;33m)\u001b[0m\u001b[1;33m)\u001b[0m\u001b[1;33m\u001b[0m\u001b[1;33m\u001b[0m\u001b[0m\n\u001b[0m\u001b[0;32m      5\u001b[0m     \u001b[0mAFT32\u001b[0m\u001b[1;33m.\u001b[0m\u001b[0mappend\u001b[0m\u001b[1;33m(\u001b[0m\u001b[0mnp\u001b[0m\u001b[1;33m.\u001b[0m\u001b[0mfloat32\u001b[0m\u001b[1;33m(\u001b[0m\u001b[0mcv2\u001b[0m\u001b[1;33m.\u001b[0m\u001b[0mequalizeHist\u001b[0m\u001b[1;33m(\u001b[0m\u001b[0mAFT\u001b[0m\u001b[1;33m[\u001b[0m\u001b[0mi\u001b[0m\u001b[1;33m]\u001b[0m\u001b[1;33m)\u001b[0m\u001b[1;33m)\u001b[0m\u001b[1;33m)\u001b[0m\u001b[1;33m\u001b[0m\u001b[1;33m\u001b[0m\u001b[0m\n",
      "\u001b[1;31mIndexError\u001b[0m: list index out of range"
     ]
    }
   ],
   "source": [
    "BEF32=[]\n",
    "AFT32=[]\n",
    "for i in range(7):\n",
    "    BEF32.append(np.float32(cv2.equalizeHist(BEF[i])))\n",
    "    AFT32.append(np.float32(cv2.equalizeHist(AFT[i])))"
   ]
  },
  {
   "cell_type": "code",
   "execution_count": 7,
   "id": "70822acc",
   "metadata": {},
   "outputs": [
    {
     "ename": "IndexError",
     "evalue": "list index out of range",
     "output_type": "error",
     "traceback": [
      "\u001b[1;31m---------------------------------------------------------------------------\u001b[0m",
      "\u001b[1;31mIndexError\u001b[0m                                Traceback (most recent call last)",
      "\u001b[1;32m~\\AppData\\Local\\Temp/ipykernel_7184/3224797759.py\u001b[0m in \u001b[0;36m<module>\u001b[1;34m\u001b[0m\n\u001b[1;32m----> 1\u001b[1;33m \u001b[0mbefore\u001b[0m\u001b[1;33m=\u001b[0m\u001b[0mcv2\u001b[0m\u001b[1;33m.\u001b[0m\u001b[0mmerge\u001b[0m\u001b[1;33m(\u001b[0m\u001b[1;33m(\u001b[0m\u001b[0mBEF32\u001b[0m\u001b[1;33m[\u001b[0m\u001b[1;36m0\u001b[0m\u001b[1;33m]\u001b[0m\u001b[1;33m,\u001b[0m\u001b[0mBEF32\u001b[0m\u001b[1;33m[\u001b[0m\u001b[1;36m1\u001b[0m\u001b[1;33m]\u001b[0m\u001b[1;33m,\u001b[0m\u001b[0mBEF32\u001b[0m\u001b[1;33m[\u001b[0m\u001b[1;36m2\u001b[0m\u001b[1;33m]\u001b[0m\u001b[1;33m,\u001b[0m\u001b[0mBEF32\u001b[0m\u001b[1;33m[\u001b[0m\u001b[1;36m3\u001b[0m\u001b[1;33m]\u001b[0m\u001b[1;33m,\u001b[0m\u001b[0mBEF32\u001b[0m\u001b[1;33m[\u001b[0m\u001b[1;36m4\u001b[0m\u001b[1;33m]\u001b[0m\u001b[1;33m,\u001b[0m\u001b[0mBEF32\u001b[0m\u001b[1;33m[\u001b[0m\u001b[1;36m5\u001b[0m\u001b[1;33m]\u001b[0m\u001b[1;33m,\u001b[0m\u001b[0mBEF32\u001b[0m\u001b[1;33m[\u001b[0m\u001b[1;36m6\u001b[0m\u001b[1;33m]\u001b[0m\u001b[1;33m)\u001b[0m\u001b[1;33m)\u001b[0m\u001b[1;33m\u001b[0m\u001b[1;33m\u001b[0m\u001b[0m\n\u001b[0m",
      "\u001b[1;31mIndexError\u001b[0m: list index out of range"
     ]
    }
   ],
   "source": [
    "before=cv2.merge((BEF32[0],BEF32[1],BEF32[2],BEF32[3],BEF32[4],BEF32[5],BEF32[6]))"
   ]
  },
  {
   "cell_type": "code",
   "execution_count": 1,
   "id": "4cd2b466",
   "metadata": {},
   "outputs": [
    {
     "ename": "NameError",
     "evalue": "name 'before' is not defined",
     "output_type": "error",
     "traceback": [
      "\u001b[1;31m---------------------------------------------------------------------------\u001b[0m",
      "\u001b[1;31mNameError\u001b[0m                                 Traceback (most recent call last)",
      "\u001b[1;32m~\\AppData\\Local\\Temp/ipykernel_9020/2916753480.py\u001b[0m in \u001b[0;36m<module>\u001b[1;34m\u001b[0m\n\u001b[1;32m----> 1\u001b[1;33m \u001b[0mbeforeReady\u001b[0m\u001b[1;33m=\u001b[0m\u001b[0mbefore\u001b[0m\u001b[1;33m.\u001b[0m\u001b[0mreshape\u001b[0m\u001b[1;33m(\u001b[0m\u001b[1;33m(\u001b[0m\u001b[1;33m-\u001b[0m\u001b[1;36m1\u001b[0m\u001b[1;33m,\u001b[0m\u001b[1;36m7\u001b[0m\u001b[1;33m)\u001b[0m\u001b[1;33m)\u001b[0m\u001b[1;33m\u001b[0m\u001b[1;33m\u001b[0m\u001b[0m\n\u001b[0m\u001b[0;32m      2\u001b[0m \u001b[0mcriteria\u001b[0m\u001b[1;33m=\u001b[0m\u001b[1;33m(\u001b[0m\u001b[0mcv2\u001b[0m\u001b[1;33m.\u001b[0m\u001b[0mTERM_CRITERIA_EPS\u001b[0m\u001b[1;33m+\u001b[0m\u001b[0mcv2\u001b[0m\u001b[1;33m.\u001b[0m\u001b[0mTERM_CRITERIA_MAX_ITER\u001b[0m\u001b[1;33m,\u001b[0m\u001b[1;36m30\u001b[0m\u001b[1;33m,\u001b[0m\u001b[1;36m1\u001b[0m\u001b[1;33m)\u001b[0m\u001b[1;33m\u001b[0m\u001b[1;33m\u001b[0m\u001b[0m\n\u001b[0;32m      3\u001b[0m \u001b[0mret\u001b[0m\u001b[1;33m,\u001b[0m\u001b[0mlabel\u001b[0m\u001b[1;33m,\u001b[0m\u001b[0mcenter\u001b[0m\u001b[1;33m=\u001b[0m\u001b[0mcv2\u001b[0m\u001b[1;33m.\u001b[0m\u001b[0mkmeans\u001b[0m\u001b[1;33m(\u001b[0m\u001b[0mbeforeReady\u001b[0m\u001b[1;33m,\u001b[0m\u001b[1;36m6\u001b[0m\u001b[1;33m,\u001b[0m\u001b[1;32mNone\u001b[0m\u001b[1;33m,\u001b[0m\u001b[0mcriteria\u001b[0m\u001b[1;33m,\u001b[0m\u001b[1;36m10\u001b[0m\u001b[1;33m,\u001b[0m\u001b[0mcv2\u001b[0m\u001b[1;33m.\u001b[0m\u001b[0mKMEANS_RANDOM_CENTERS\u001b[0m\u001b[1;33m)\u001b[0m\u001b[1;33m\u001b[0m\u001b[1;33m\u001b[0m\u001b[0m\n\u001b[0;32m      4\u001b[0m \u001b[0mcenter\u001b[0m\u001b[1;33m=\u001b[0m\u001b[0mnp\u001b[0m\u001b[1;33m.\u001b[0m\u001b[0muint8\u001b[0m\u001b[1;33m(\u001b[0m\u001b[0mcenter\u001b[0m\u001b[1;33m)\u001b[0m\u001b[1;33m\u001b[0m\u001b[1;33m\u001b[0m\u001b[0m\n\u001b[0;32m      5\u001b[0m \u001b[0mres\u001b[0m\u001b[1;33m=\u001b[0m\u001b[0mcenter\u001b[0m\u001b[1;33m[\u001b[0m\u001b[0mlabel\u001b[0m\u001b[1;33m.\u001b[0m\u001b[0mflatten\u001b[0m\u001b[1;33m(\u001b[0m\u001b[1;33m)\u001b[0m\u001b[1;33m]\u001b[0m\u001b[1;33m\u001b[0m\u001b[1;33m\u001b[0m\u001b[0m\n",
      "\u001b[1;31mNameError\u001b[0m: name 'before' is not defined"
     ]
    }
   ],
   "source": [
    "beforeReady=before.reshape((-1,7))\n",
    "criteria=(cv2.TERM_CRITERIA_EPS+cv2.TERM_CRITERIA_MAX_ITER,30,1)\n",
    "ret,label,center=cv2.kmeans(beforeReady,6,None,criteria,10,cv2.KMEANS_RANDOM_CENTERS)\n",
    "center=np.uint8(center)\n",
    "res=center[label.flatten()]\n",
    "res2=res.reshape((before.shape))"
   ]
  },
  {
   "cell_type": "code",
   "execution_count": 9,
   "id": "6e2ebddb",
   "metadata": {},
   "outputs": [
    {
     "ename": "NameError",
     "evalue": "name 'res2' is not defined",
     "output_type": "error",
     "traceback": [
      "\u001b[1;31m---------------------------------------------------------------------------\u001b[0m",
      "\u001b[1;31mNameError\u001b[0m                                 Traceback (most recent call last)",
      "\u001b[1;32m~\\AppData\\Local\\Temp/ipykernel_7184/3220255378.py\u001b[0m in \u001b[0;36m<module>\u001b[1;34m\u001b[0m\n\u001b[1;32m----> 1\u001b[1;33m \u001b[0mbeforeF\u001b[0m\u001b[1;33m=\u001b[0m\u001b[0mdeepcopy\u001b[0m\u001b[1;33m(\u001b[0m\u001b[0mres2\u001b[0m\u001b[1;33m[\u001b[0m\u001b[1;33m:\u001b[0m\u001b[1;33m]\u001b[0m\u001b[1;33m[\u001b[0m\u001b[1;33m:\u001b[0m\u001b[1;33m,\u001b[0m\u001b[1;33m:\u001b[0m\u001b[1;33m,\u001b[0m\u001b[1;33m:\u001b[0m\u001b[1;36m3\u001b[0m\u001b[1;33m]\u001b[0m\u001b[1;33m)\u001b[0m\u001b[1;33m\u001b[0m\u001b[1;33m\u001b[0m\u001b[0m\n\u001b[0m",
      "\u001b[1;31mNameError\u001b[0m: name 'res2' is not defined"
     ]
    }
   ],
   "source": [
    "beforeF=deepcopy(res2[:][:,:,:3])"
   ]
  },
  {
   "cell_type": "code",
   "execution_count": 10,
   "id": "5b652d7a",
   "metadata": {},
   "outputs": [
    {
     "ename": "NameError",
     "evalue": "name 'beforeF' is not defined",
     "output_type": "error",
     "traceback": [
      "\u001b[1;31m---------------------------------------------------------------------------\u001b[0m",
      "\u001b[1;31mNameError\u001b[0m                                 Traceback (most recent call last)",
      "\u001b[1;32m~\\AppData\\Local\\Temp/ipykernel_7184/2927854852.py\u001b[0m in \u001b[0;36m<module>\u001b[1;34m\u001b[0m\n\u001b[1;32m----> 1\u001b[1;33m \u001b[0mwind\u001b[0m\u001b[1;33m(\u001b[0m\u001b[0mbeforeF\u001b[0m\u001b[1;33m)\u001b[0m\u001b[1;33m\u001b[0m\u001b[1;33m\u001b[0m\u001b[0m\n\u001b[0m",
      "\u001b[1;31mNameError\u001b[0m: name 'beforeF' is not defined"
     ]
    }
   ],
   "source": [
    "wind(beforeF)"
   ]
  },
  {
   "cell_type": "code",
   "execution_count": null,
   "id": "f6c75f0e",
   "metadata": {},
   "outputs": [],
   "source": []
  }
 ],
 "metadata": {
  "kernelspec": {
   "display_name": "Python 3 (ipykernel)",
   "language": "python",
   "name": "python3"
  },
  "language_info": {
   "codemirror_mode": {
    "name": "ipython",
    "version": 3
   },
   "file_extension": ".py",
   "mimetype": "text/x-python",
   "name": "python",
   "nbconvert_exporter": "python",
   "pygments_lexer": "ipython3",
   "version": "3.8.12"
  }
 },
 "nbformat": 4,
 "nbformat_minor": 5
}
